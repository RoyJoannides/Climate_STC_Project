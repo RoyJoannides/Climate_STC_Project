{
 "cells": [
  {
   "cell_type": "code",
   "execution_count": 1,
   "id": "2e64946a",
   "metadata": {},
   "outputs": [],
   "source": [
    "import pandas as pd\n",
    "import numpy as np"
   ]
  },
  {
   "cell_type": "code",
   "execution_count": 4,
   "id": "1260460c",
   "metadata": {},
   "outputs": [],
   "source": [
    "url = \"./raw_data/CC.csv\""
   ]
  },
  {
   "cell_type": "code",
   "execution_count": 5,
   "id": "c360d5ea",
   "metadata": {},
   "outputs": [],
   "source": [
    "df_original = pd.read_csv(url)"
   ]
  },
  {
   "cell_type": "code",
   "execution_count": 6,
   "id": "b1f34b12",
   "metadata": {},
   "outputs": [
    {
     "data": {
      "text/html": [
       "<div>\n",
       "<style scoped>\n",
       "    .dataframe tbody tr th:only-of-type {\n",
       "        vertical-align: middle;\n",
       "    }\n",
       "\n",
       "    .dataframe tbody tr th {\n",
       "        vertical-align: top;\n",
       "    }\n",
       "\n",
       "    .dataframe thead th {\n",
       "        text-align: right;\n",
       "    }\n",
       "</style>\n",
       "<table border=\"1\" class=\"dataframe\">\n",
       "  <thead>\n",
       "    <tr style=\"text-align: right;\">\n",
       "      <th></th>\n",
       "      <th>Country</th>\n",
       "      <th>ISO3</th>\n",
       "      <th>Indicator</th>\n",
       "      <th>Unit</th>\n",
       "      <th>Source</th>\n",
       "      <th>1961</th>\n",
       "      <th>1962</th>\n",
       "      <th>1963</th>\n",
       "      <th>1964</th>\n",
       "      <th>1965</th>\n",
       "      <th>...</th>\n",
       "      <th>2017</th>\n",
       "      <th>2018</th>\n",
       "      <th>2019</th>\n",
       "      <th>2020</th>\n",
       "      <th>2021</th>\n",
       "      <th>2022</th>\n",
       "      <th>Sub-Region</th>\n",
       "      <th>Income Group</th>\n",
       "      <th>Area (KM²)</th>\n",
       "      <th>Density (KM²)</th>\n",
       "    </tr>\n",
       "  </thead>\n",
       "  <tbody>\n",
       "    <tr>\n",
       "      <th>0</th>\n",
       "      <td>Albania</td>\n",
       "      <td>ALB</td>\n",
       "      <td>Temperature change with respect to a baseline ...</td>\n",
       "      <td>Degree Celsius</td>\n",
       "      <td>Food and Agriculture Organization of the Unite...</td>\n",
       "      <td>0.627</td>\n",
       "      <td>0.326</td>\n",
       "      <td>0.075</td>\n",
       "      <td>-0.166</td>\n",
       "      <td>-0.388</td>\n",
       "      <td>...</td>\n",
       "      <td>1.121</td>\n",
       "      <td>2.028</td>\n",
       "      <td>1.675</td>\n",
       "      <td>1.498</td>\n",
       "      <td>1.536</td>\n",
       "      <td>1.518</td>\n",
       "      <td>Europe &amp; Central Asia</td>\n",
       "      <td>Upper middle income</td>\n",
       "      <td>28748.0</td>\n",
       "      <td>103</td>\n",
       "    </tr>\n",
       "    <tr>\n",
       "      <th>1</th>\n",
       "      <td>Algeria</td>\n",
       "      <td>DZA</td>\n",
       "      <td>Temperature change with respect to a baseline ...</td>\n",
       "      <td>Degree Celsius</td>\n",
       "      <td>Food and Agriculture Organization of the Unite...</td>\n",
       "      <td>0.164</td>\n",
       "      <td>0.114</td>\n",
       "      <td>0.077</td>\n",
       "      <td>0.250</td>\n",
       "      <td>-0.100</td>\n",
       "      <td>...</td>\n",
       "      <td>1.512</td>\n",
       "      <td>1.210</td>\n",
       "      <td>1.115</td>\n",
       "      <td>1.926</td>\n",
       "      <td>2.330</td>\n",
       "      <td>1.688</td>\n",
       "      <td>Middle East &amp; North Africa</td>\n",
       "      <td>Lower middle income</td>\n",
       "      <td>2381741.0</td>\n",
       "      <td>19</td>\n",
       "    </tr>\n",
       "    <tr>\n",
       "      <th>2</th>\n",
       "      <td>American Samoa</td>\n",
       "      <td>ASM</td>\n",
       "      <td>Temperature change with respect to a baseline ...</td>\n",
       "      <td>Degree Celsius</td>\n",
       "      <td>Food and Agriculture Organization of the Unite...</td>\n",
       "      <td>0.079</td>\n",
       "      <td>-0.042</td>\n",
       "      <td>0.169</td>\n",
       "      <td>-0.140</td>\n",
       "      <td>-0.562</td>\n",
       "      <td>...</td>\n",
       "      <td>1.435</td>\n",
       "      <td>1.189</td>\n",
       "      <td>1.539</td>\n",
       "      <td>1.430</td>\n",
       "      <td>1.268</td>\n",
       "      <td>1.256</td>\n",
       "      <td>East Asia &amp; Pacific</td>\n",
       "      <td>High income</td>\n",
       "      <td>199.0</td>\n",
       "      <td>220</td>\n",
       "    </tr>\n",
       "    <tr>\n",
       "      <th>3</th>\n",
       "      <td>Angola</td>\n",
       "      <td>AGO</td>\n",
       "      <td>Temperature change with respect to a baseline ...</td>\n",
       "      <td>Degree Celsius</td>\n",
       "      <td>Food and Agriculture Organization of the Unite...</td>\n",
       "      <td>0.041</td>\n",
       "      <td>-0.152</td>\n",
       "      <td>-0.190</td>\n",
       "      <td>-0.229</td>\n",
       "      <td>-0.196</td>\n",
       "      <td>...</td>\n",
       "      <td>0.870</td>\n",
       "      <td>1.395</td>\n",
       "      <td>1.752</td>\n",
       "      <td>1.162</td>\n",
       "      <td>1.553</td>\n",
       "      <td>1.212</td>\n",
       "      <td>Sub-Saharan Africa</td>\n",
       "      <td>Lower middle income</td>\n",
       "      <td>1246700.0</td>\n",
       "      <td>29</td>\n",
       "    </tr>\n",
       "    <tr>\n",
       "      <th>4</th>\n",
       "      <td>Antigua and Barbuda</td>\n",
       "      <td>ATG</td>\n",
       "      <td>Temperature change with respect to a baseline ...</td>\n",
       "      <td>Degree Celsius</td>\n",
       "      <td>Food and Agriculture Organization of the Unite...</td>\n",
       "      <td>0.090</td>\n",
       "      <td>0.031</td>\n",
       "      <td>0.288</td>\n",
       "      <td>0.214</td>\n",
       "      <td>-0.385</td>\n",
       "      <td>...</td>\n",
       "      <td>0.958</td>\n",
       "      <td>0.627</td>\n",
       "      <td>0.797</td>\n",
       "      <td>1.131</td>\n",
       "      <td>0.862</td>\n",
       "      <td>0.770</td>\n",
       "      <td>Latin America &amp; Caribbean</td>\n",
       "      <td>High income</td>\n",
       "      <td>442.0</td>\n",
       "      <td>214</td>\n",
       "    </tr>\n",
       "  </tbody>\n",
       "</table>\n",
       "<p>5 rows × 71 columns</p>\n",
       "</div>"
      ],
      "text/plain": [
       "               Country ISO3  \\\n",
       "0              Albania  ALB   \n",
       "1              Algeria  DZA   \n",
       "2       American Samoa  ASM   \n",
       "3               Angola  AGO   \n",
       "4  Antigua and Barbuda  ATG   \n",
       "\n",
       "                                           Indicator            Unit  \\\n",
       "0  Temperature change with respect to a baseline ...  Degree Celsius   \n",
       "1  Temperature change with respect to a baseline ...  Degree Celsius   \n",
       "2  Temperature change with respect to a baseline ...  Degree Celsius   \n",
       "3  Temperature change with respect to a baseline ...  Degree Celsius   \n",
       "4  Temperature change with respect to a baseline ...  Degree Celsius   \n",
       "\n",
       "                                              Source   1961   1962   1963  \\\n",
       "0  Food and Agriculture Organization of the Unite...  0.627  0.326  0.075   \n",
       "1  Food and Agriculture Organization of the Unite...  0.164  0.114  0.077   \n",
       "2  Food and Agriculture Organization of the Unite...  0.079 -0.042  0.169   \n",
       "3  Food and Agriculture Organization of the Unite...  0.041 -0.152 -0.190   \n",
       "4  Food and Agriculture Organization of the Unite...  0.090  0.031  0.288   \n",
       "\n",
       "    1964   1965  ...   2017   2018   2019   2020   2021   2022  \\\n",
       "0 -0.166 -0.388  ...  1.121  2.028  1.675  1.498  1.536  1.518   \n",
       "1  0.250 -0.100  ...  1.512  1.210  1.115  1.926  2.330  1.688   \n",
       "2 -0.140 -0.562  ...  1.435  1.189  1.539  1.430  1.268  1.256   \n",
       "3 -0.229 -0.196  ...  0.870  1.395  1.752  1.162  1.553  1.212   \n",
       "4  0.214 -0.385  ...  0.958  0.627  0.797  1.131  0.862  0.770   \n",
       "\n",
       "                   Sub-Region         Income Group  Area (KM²)  Density (KM²)  \n",
       "0       Europe & Central Asia  Upper middle income     28748.0            103  \n",
       "1  Middle East & North Africa  Lower middle income   2381741.0             19  \n",
       "2         East Asia & Pacific          High income       199.0            220  \n",
       "3          Sub-Saharan Africa  Lower middle income   1246700.0             29  \n",
       "4   Latin America & Caribbean          High income       442.0            214  \n",
       "\n",
       "[5 rows x 71 columns]"
      ]
     },
     "execution_count": 6,
     "metadata": {},
     "output_type": "execute_result"
    }
   ],
   "source": [
    "df_original.head()"
   ]
  },
  {
   "cell_type": "code",
   "execution_count": 4,
   "id": "5331116e",
   "metadata": {},
   "outputs": [
    {
     "data": {
      "text/plain": [
       "Index(['Country', 'ISO3', 'Indicator', 'Unit', 'Source', '1961', '1962',\n",
       "       '1963', '1964', '1965', '1966', '1967', '1968', '1969', '1970', '1971',\n",
       "       '1972', '1973', '1974', '1975', '1976', '1977', '1978', '1979', '1980',\n",
       "       '1981', '1982', '1983', '1984', '1985', '1986', '1987', '1988', '1989',\n",
       "       '1990', '1991', '1992', '1993', '1994', '1995', '1996', '1997', '1998',\n",
       "       '1999', '2000', '2001', '2002', '2003', '2004', '2005', '2006', '2007',\n",
       "       '2008', '2009', '2010', '2011', '2012', '2013', '2014', '2015', '2016',\n",
       "       '2017', '2018', '2019', '2020', '2021', '2022', 'Sub-Region',\n",
       "       'Income Group', 'Area (KM²)', 'Density (KM²)'],\n",
       "      dtype='object')"
      ]
     },
     "execution_count": 4,
     "metadata": {},
     "output_type": "execute_result"
    }
   ],
   "source": [
    "df_original.columns"
   ]
  },
  {
   "cell_type": "code",
   "execution_count": 12,
   "id": "54334328",
   "metadata": {},
   "outputs": [
    {
     "data": {
      "text/plain": [
       "array(['Albania', 'Algeria', 'American Samoa', 'Angola',\n",
       "       'Antigua and Barbuda', 'Argentina', 'Australia', 'Austria',\n",
       "       'Bangladesh', 'Barbados', 'Belgium', 'Belize', 'Benin', 'Bhutan',\n",
       "       'Bolivia', 'Bosnia and Herzegovina', 'Botswana', 'Brazil',\n",
       "       'British Virgin Islands', 'Bulgaria', 'Burkina Faso', 'Burundi',\n",
       "       'Cambodia', 'Cameroon', 'Canada', 'Cayman Islands', 'Chad',\n",
       "       'Chile', 'Colombia', 'Costa Rica', 'Cuba', 'Cyprus', 'Denmark',\n",
       "       'Djibouti', 'Dominica', 'Ecuador', 'El Salvador', 'Faroe Islands',\n",
       "       'Finland', 'France', 'French Polynesia', 'Gabon', 'Georgia',\n",
       "       'Germany', 'Ghana', 'Gibraltar', 'Greece', 'Greenland', 'Grenada',\n",
       "       'Guatemala', 'Guinea', 'Guinea-Bissau', 'Guyana', 'Haiti',\n",
       "       'Honduras', 'Hungary', 'Iceland', 'India', 'Indonesia', 'Iraq',\n",
       "       'Ireland', 'Isle of Man', 'Israel', 'Italy', 'Jamaica', 'Japan',\n",
       "       'Jordan', 'Kenya', 'Kiribati', 'Kuwait', 'Latvia', 'Lebanon',\n",
       "       'Liberia', 'Libya', 'Liechtenstein', 'Lithuania', 'Luxembourg',\n",
       "       'Malawi', 'Malaysia', 'Maldives', 'Mali', 'Malta', 'Mauritius',\n",
       "       'Mexico', 'Monaco', 'Mongolia', 'Montenegro', 'Morocco', 'Myanmar',\n",
       "       'Namibia', 'Nepal', 'New Caledonia', 'New Zealand', 'Nicaragua',\n",
       "       'Niger', 'Nigeria', 'Norway', 'Oman', 'Pakistan', 'Panama',\n",
       "       'Papua New Guinea', 'Paraguay', 'Peru', 'Philippines', 'Portugal',\n",
       "       'Puerto Rico', 'Qatar', 'Romania', 'Rwanda', 'Samoa',\n",
       "       'Saudi Arabia', 'Senegal', 'Seychelles', 'Sierra Leone',\n",
       "       'Singapore', 'Solomon Islands', 'Somalia', 'South Africa', 'Spain',\n",
       "       'Sri Lanka', 'Sudan', 'Suriname', 'Sweden', 'Switzerland',\n",
       "       'Thailand', 'Togo', 'Tonga', 'Trinidad and Tobago', 'Tunisia',\n",
       "       'Turkmenistan', 'Turks and Caicos Islands', 'Tuvalu', 'Uganda',\n",
       "       'Ukraine', 'United Arab Emirates', 'United Kingdom',\n",
       "       'United States', 'Uruguay', 'Vanuatu', 'Zambia', 'Zimbabwe'],\n",
       "      dtype=object)"
      ]
     },
     "execution_count": 12,
     "metadata": {},
     "output_type": "execute_result"
    }
   ],
   "source": [
    "df_original[\"Country\"].unique()"
   ]
  },
  {
   "cell_type": "code",
   "execution_count": 7,
   "id": "b6da8a69",
   "metadata": {},
   "outputs": [],
   "source": [
    "df = df_original.copy()"
   ]
  },
  {
   "cell_type": "code",
   "execution_count": 8,
   "id": "6407e820",
   "metadata": {},
   "outputs": [
    {
     "data": {
      "text/plain": [
       "(141, 71)"
      ]
     },
     "execution_count": 8,
     "metadata": {},
     "output_type": "execute_result"
    }
   ],
   "source": [
    "df.shape"
   ]
  },
  {
   "cell_type": "code",
   "execution_count": 9,
   "id": "ec74705f",
   "metadata": {},
   "outputs": [
    {
     "data": {
      "text/plain": [
       "Country          False\n",
       "ISO3             False\n",
       "Indicator        False\n",
       "Unit             False\n",
       "Source           False\n",
       "                 ...  \n",
       "2022             False\n",
       "Sub-Region       False\n",
       "Income Group     False\n",
       "Area (KM²)       False\n",
       "Density (KM²)    False\n",
       "Length: 71, dtype: bool"
      ]
     },
     "execution_count": 9,
     "metadata": {},
     "output_type": "execute_result"
    }
   ],
   "source": [
    "df.isnull().any()"
   ]
  },
  {
   "cell_type": "code",
   "execution_count": 10,
   "id": "6c2321c1",
   "metadata": {},
   "outputs": [
    {
     "data": {
      "text/plain": [
       "array(['Albania', 'Algeria', 'American Samoa', 'Angola',\n",
       "       'Antigua and Barbuda', 'Argentina', 'Australia', 'Austria',\n",
       "       'Bangladesh', 'Barbados', 'Belgium', 'Belize', 'Benin', 'Bhutan',\n",
       "       'Bolivia', 'Bosnia and Herzegovina', 'Botswana', 'Brazil',\n",
       "       'British Virgin Islands', 'Bulgaria', 'Burkina Faso', 'Burundi',\n",
       "       'Cambodia', 'Cameroon', 'Canada', 'Cayman Islands', 'Chad',\n",
       "       'Chile', 'Colombia', 'Costa Rica', 'Cuba', 'Cyprus', 'Denmark',\n",
       "       'Djibouti', 'Dominica', 'Ecuador', 'El Salvador', 'Faroe Islands',\n",
       "       'Finland', 'France', 'French Polynesia', 'Gabon', 'Georgia',\n",
       "       'Germany', 'Ghana', 'Gibraltar', 'Greece', 'Greenland', 'Grenada',\n",
       "       'Guatemala', 'Guinea', 'Guinea-Bissau', 'Guyana', 'Haiti',\n",
       "       'Honduras', 'Hungary', 'Iceland', 'India', 'Indonesia', 'Iraq',\n",
       "       'Ireland', 'Isle of Man', 'Israel', 'Italy', 'Jamaica', 'Japan',\n",
       "       'Jordan', 'Kenya', 'Kiribati', 'Kuwait', 'Latvia', 'Lebanon',\n",
       "       'Liberia', 'Libya', 'Liechtenstein', 'Lithuania', 'Luxembourg',\n",
       "       'Malawi', 'Malaysia', 'Maldives', 'Mali', 'Malta', 'Mauritius',\n",
       "       'Mexico', 'Monaco', 'Mongolia', 'Montenegro', 'Morocco', 'Myanmar',\n",
       "       'Namibia', 'Nepal', 'New Caledonia', 'New Zealand', 'Nicaragua',\n",
       "       'Niger', 'Nigeria', 'Norway', 'Oman', 'Pakistan', 'Panama',\n",
       "       'Papua New Guinea', 'Paraguay', 'Peru', 'Philippines', 'Portugal',\n",
       "       'Puerto Rico', 'Qatar', 'Romania', 'Rwanda', 'Samoa',\n",
       "       'Saudi Arabia', 'Senegal', 'Seychelles', 'Sierra Leone',\n",
       "       'Singapore', 'Solomon Islands', 'Somalia', 'South Africa', 'Spain',\n",
       "       'Sri Lanka', 'Sudan', 'Suriname', 'Sweden', 'Switzerland',\n",
       "       'Thailand', 'Togo', 'Tonga', 'Trinidad and Tobago', 'Tunisia',\n",
       "       'Turkmenistan', 'Turks and Caicos Islands', 'Tuvalu', 'Uganda',\n",
       "       'Ukraine', 'United Arab Emirates', 'United Kingdom',\n",
       "       'United States', 'Uruguay', 'Vanuatu', 'Zambia', 'Zimbabwe'],\n",
       "      dtype=object)"
      ]
     },
     "execution_count": 10,
     "metadata": {},
     "output_type": "execute_result"
    }
   ],
   "source": [
    "df[\"Country\"].unique()"
   ]
  },
  {
   "cell_type": "code",
   "execution_count": 11,
   "id": "4940bf08",
   "metadata": {},
   "outputs": [
    {
     "data": {
      "text/plain": [
       "array(['Europe', 'Algeria', 'American Samoa', 'Angola',\n",
       "       'Antigua and Barbuda', 'Argentina', 'Australia', 'Bangladesh',\n",
       "       'Barbados', 'Belize', 'Benin', 'Bhutan', 'Bolivia', 'Botswana',\n",
       "       'Brazil', 'British Virgin Islands', 'Burkina Faso', 'Burundi',\n",
       "       'Cambodia', 'Cameroon', 'Canada', 'Cayman Islands', 'Chad',\n",
       "       'Chile', 'Colombia', 'Costa Rica', 'Cuba', 'Djibouti', 'Dominica',\n",
       "       'Ecuador', 'El Salvador', 'Faroe Islands', 'French Polynesia',\n",
       "       'Gabon', 'Georgia', 'Ghana', 'Gibraltar', 'Greenland', 'Grenada',\n",
       "       'Guatemala', 'Guinea', 'Guinea-Bissau', 'Guyana', 'Haiti',\n",
       "       'Honduras', 'Hungary', 'India', 'Indonesia', 'Iraq', 'Isle of Man',\n",
       "       'Israel', 'Jamaica', 'Japan', 'Jordan', 'Kenya', 'Kiribati',\n",
       "       'Kuwait', 'Lebanon', 'Liberia', 'Libya', 'Malawi', 'Malaysia',\n",
       "       'Maldives', 'Mali', 'Mauritius', 'Mexico', 'Mongolia',\n",
       "       'Montenegro', 'Morocco', 'Myanmar', 'Namibia', 'Nepal',\n",
       "       'New Caledonia', 'New Zealand', 'Nicaragua', 'Niger', 'Nigeria',\n",
       "       'Oman', 'Pakistan', 'Panama', 'Papua New Guinea', 'Paraguay',\n",
       "       'Peru', 'Philippines', 'Puerto Rico', 'Qatar', 'Rwanda', 'Samoa',\n",
       "       'Saudi Arabia', 'Senegal', 'Seychelles', 'Sierra Leone',\n",
       "       'Singapore', 'Solomon Islands', 'Somalia', 'South Africa',\n",
       "       'Sri Lanka', 'Sudan', 'Suriname', 'Thailand', 'Togo', 'Tonga',\n",
       "       'Trinidad and Tobago', 'Tunisia', 'Turkmenistan',\n",
       "       'Turks and Caicos Islands', 'Tuvalu', 'Uganda',\n",
       "       'United Arab Emirates', 'United States', 'Uruguay', 'Vanuatu',\n",
       "       'Zambia', 'Zimbabwe'], dtype=object)"
      ]
     },
     "execution_count": 11,
     "metadata": {},
     "output_type": "execute_result"
    }
   ],
   "source": [
    "mapping = {\"Albania\" : \"Europe\",\n",
    "           \"Austria\" : \"Europe\",\n",
    "           \"Belgium\" : \"Europe\",\n",
    "           \"Bulgaria\" : \"Europe\",\n",
    "           \"Bosnia and Herzegovina\" : \"Europe\",\n",
    "           \"Denmark\" : \"Europe\",\n",
    "           \"Cyprus\" : \"Europe\",\n",
    "           \"France\" : \"Europe\",\n",
    "           \"Finland\" : \"Europe\",\n",
    "           \"Germany\" : \"Europe\",\n",
    "           \"Greece\" : \"Europe\",\n",
    "           \"Iceland\" : \"Europe\",\n",
    "           \"Italy\" : \"Europe\",\n",
    "           \"Ireland\" : \"Europe\",\n",
    "           \"Latvia\" : \"Europe\",\n",
    "           \"Luxembourg\" : \"Europe\",\n",
    "           \"Lithuania\" : \"Europe\",\n",
    "           \"Liechtenstein\" : \"Europe\",\n",
    "           \"Malta\" : \"Europe\",\n",
    "           \"Monaco\" : \"Europe\",\n",
    "           \"Norway\" : \"Europe\",\n",
    "           \"Portugal\" : \"Europe\",\n",
    "           \"Romania\" : \"Europe\",\n",
    "           \"Spain\" : \"Europe\",\n",
    "           \"Sweden\" : \"Europe\",\n",
    "           \"Switzerland\" : \"Europe\",\n",
    "           \"Ukraine\" : \"Europe\",\n",
    "           \"United Kingdom\" : \"Europe\" \n",
    "           }\n",
    "\n",
    "df[\"Europe\"] = df[\"Country\"].replace(mapping)\n",
    "df[\"Europe\"].unique()"
   ]
  },
  {
   "cell_type": "code",
   "execution_count": 12,
   "id": "6fb1d956",
   "metadata": {},
   "outputs": [],
   "source": [
    "df_europe = df[ df[\"Europe\"] == \"Europe\"]\n",
    "df_europe.reset_index(drop = True, inplace = True)"
   ]
  },
  {
   "cell_type": "code",
   "execution_count": 13,
   "id": "9dc00af6",
   "metadata": {},
   "outputs": [
    {
     "data": {
      "text/plain": [
       "(28, 72)"
      ]
     },
     "execution_count": 13,
     "metadata": {},
     "output_type": "execute_result"
    }
   ],
   "source": [
    "df_europe.shape"
   ]
  },
  {
   "cell_type": "code",
   "execution_count": 14,
   "id": "b37f927a",
   "metadata": {},
   "outputs": [
    {
     "data": {
      "text/plain": [
       "Index(['Country', 'ISO3', 'Indicator', 'Unit', 'Source', '1961', '1962',\n",
       "       '1963', '1964', '1965', '1966', '1967', '1968', '1969', '1970', '1971',\n",
       "       '1972', '1973', '1974', '1975', '1976', '1977', '1978', '1979', '1980',\n",
       "       '1981', '1982', '1983', '1984', '1985', '1986', '1987', '1988', '1989',\n",
       "       '1990', '1991', '1992', '1993', '1994', '1995', '1996', '1997', '1998',\n",
       "       '1999', '2000', '2001', '2002', '2003', '2004', '2005', '2006', '2007',\n",
       "       '2008', '2009', '2010', '2011', '2012', '2013', '2014', '2015', '2016',\n",
       "       '2017', '2018', '2019', '2020', '2021', '2022', 'Sub-Region',\n",
       "       'Income Group', 'Area (KM²)', 'Density (KM²)', 'Europe'],\n",
       "      dtype='object')"
      ]
     },
     "execution_count": 14,
     "metadata": {},
     "output_type": "execute_result"
    }
   ],
   "source": [
    "df_europe.columns"
   ]
  },
  {
   "cell_type": "code",
   "execution_count": 15,
   "id": "55484b03",
   "metadata": {},
   "outputs": [
    {
     "name": "stderr",
     "output_type": "stream",
     "text": [
      "C:\\Users\\laura\\AppData\\Local\\Temp\\ipykernel_20156\\2328337411.py:3: SettingWithCopyWarning: \n",
      "A value is trying to be set on a copy of a slice from a DataFrame\n",
      "\n",
      "See the caveats in the documentation: https://pandas.pydata.org/pandas-docs/stable/user_guide/indexing.html#returning-a-view-versus-a-copy\n",
      "  df_europe.drop(drop_columns, axis = 1, inplace = True)\n"
     ]
    }
   ],
   "source": [
    "drop_columns = [\"ISO3\", \"Indicator\", \"Unit\", \"Source\", \"Sub-Region\",\n",
    "                \"1961\", \"1962\", \"1963\", \"1964\", \"1965\", \"1966\", \"1967\", \"1968\"]\n",
    "df_europe.drop(drop_columns, axis = 1, inplace = True)"
   ]
  },
  {
   "cell_type": "code",
   "execution_count": 16,
   "id": "56db498c",
   "metadata": {},
   "outputs": [],
   "source": [
    "df_europe.to_csv(\"df_europe.csv\", index = False)"
   ]
  },
  {
   "cell_type": "code",
   "execution_count": 17,
   "id": "c644496a",
   "metadata": {},
   "outputs": [
    {
     "data": {
      "text/plain": [
       "array(['Albania', 'Austria', 'Belgium', 'Bosnia and Herzegovina',\n",
       "       'Bulgaria', 'Cyprus', 'Denmark', 'Finland', 'France', 'Germany',\n",
       "       'Greece', 'Iceland', 'Ireland', 'Italy', 'Latvia', 'Liechtenstein',\n",
       "       'Lithuania', 'Luxembourg', 'Malta', 'Monaco', 'Norway', 'Portugal',\n",
       "       'Romania', 'Spain', 'Sweden', 'Switzerland', 'Ukraine',\n",
       "       'United Kingdom'], dtype=object)"
      ]
     },
     "execution_count": 17,
     "metadata": {},
     "output_type": "execute_result"
    }
   ],
   "source": [
    "df_europe[\"Country\"].unique()"
   ]
  },
  {
   "cell_type": "code",
   "execution_count": null,
   "id": "b4cd2c27",
   "metadata": {},
   "outputs": [],
   "source": []
  }
 ],
 "metadata": {
  "kernelspec": {
   "display_name": "Python 3 (ipykernel)",
   "language": "python",
   "name": "python3"
  },
  "language_info": {
   "codemirror_mode": {
    "name": "ipython",
    "version": 3
   },
   "file_extension": ".py",
   "mimetype": "text/x-python",
   "name": "python",
   "nbconvert_exporter": "python",
   "pygments_lexer": "ipython3",
   "version": "3.11.5"
  }
 },
 "nbformat": 4,
 "nbformat_minor": 5
}
