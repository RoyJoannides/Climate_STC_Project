{
 "cells": [
  {
   "cell_type": "code",
   "execution_count": 2,
   "id": "490b0b83",
   "metadata": {},
   "outputs": [],
   "source": [
    "import numpy as np\n",
    "import pandas as pd\n",
    "import requests"
   ]
  },
  {
   "cell_type": "markdown",
   "id": "3095bfff",
   "metadata": {},
   "source": [
    "Data retrieved from https://ec.europa.eu/eurostat/web/agriculture/database"
   ]
  },
  {
   "cell_type": "code",
   "execution_count": 7,
   "id": "7f3893ee",
   "metadata": {},
   "outputs": [],
   "source": [
    "# Eurostat file on selling prices of animal products from 2000 to 2022\n",
    "\n",
    "file = \"./raw_data/apri_ap_anouta_linear_RECENT.csv\""
   ]
  },
  {
   "cell_type": "code",
   "execution_count": 8,
   "id": "336bc398",
   "metadata": {},
   "outputs": [
    {
     "data": {
      "text/plain": [
       "Index(['DATAFLOW', 'LAST UPDATE', 'freq', 'currency', 'prod_ani', 'geo',\n",
       "       'TIME_PERIOD', 'OBS_VALUE', 'OBS_FLAG'],\n",
       "      dtype='object')"
      ]
     },
     "execution_count": 8,
     "metadata": {},
     "output_type": "execute_result"
    }
   ],
   "source": [
    "df_meat_recent = pd.read_csv(file)\n",
    "df_meat_recent.columns"
   ]
  },
  {
   "cell_type": "code",
   "execution_count": 9,
   "id": "5d77b41c",
   "metadata": {},
   "outputs": [],
   "source": [
    "# Eurostat file on selling prices of animal products from 1969 to 2005\n",
    "\n",
    "file2 = \"./raw_data/apri_ap_haouta_linear_OLD.csv\""
   ]
  },
  {
   "cell_type": "code",
   "execution_count": 10,
   "id": "e9127c6c",
   "metadata": {},
   "outputs": [
    {
     "data": {
      "text/plain": [
       "Index(['DATAFLOW', 'LAST UPDATE', 'freq', 'currency', 'prod_apr', 'geo',\n",
       "       'TIME_PERIOD', 'OBS_VALUE', 'OBS_FLAG'],\n",
       "      dtype='object')"
      ]
     },
     "execution_count": 10,
     "metadata": {},
     "output_type": "execute_result"
    }
   ],
   "source": [
    "df_meat_old = pd.read_csv(file2)\n",
    "df_meat_old.columns"
   ]
  },
  {
   "cell_type": "code",
   "execution_count": 30,
   "id": "fd7dae02",
   "metadata": {},
   "outputs": [],
   "source": [
    "# Creating a new dataframe containing the prices of meat from 1969 to 2022\n",
    "\n",
    "df_meat_tot = pd.concat([df_meat_recent, df_meat_old], ignore_index = True)"
   ]
  },
  {
   "cell_type": "code",
   "execution_count": 31,
   "id": "90857e68",
   "metadata": {},
   "outputs": [
    {
     "data": {
      "text/plain": [
       "array([2000, 2001, 2002, 2003, 2004, 2005, 2006, 2007, 2008, 2009, 2010,\n",
       "       2011, 2012, 2013, 2014, 2015, 2016, 2017, 2018, 2019, 2020, 2021,\n",
       "       2022, 1974, 1975, 1976, 1977, 1978, 1979, 1980, 1981, 1982, 1983,\n",
       "       1984, 1985, 1986, 1987, 1988, 1989, 1990, 1991, 1992, 1993, 1994,\n",
       "       1995, 1996, 1997, 1998, 1999, 1971, 1972, 1973, 1969, 1970],\n",
       "      dtype=int64)"
      ]
     },
     "execution_count": 31,
     "metadata": {},
     "output_type": "execute_result"
    }
   ],
   "source": [
    "df_meat_tot[\"TIME_PERIOD\"].unique()"
   ]
  },
  {
   "cell_type": "code",
   "execution_count": 32,
   "id": "774feeca",
   "metadata": {},
   "outputs": [],
   "source": [
    "df_meat_tot = df_meat_tot.sort_values(by = \"TIME_PERIOD\")"
   ]
  },
  {
   "cell_type": "code",
   "execution_count": 33,
   "id": "7ec3c3ac",
   "metadata": {},
   "outputs": [
    {
     "data": {
      "text/plain": [
       "array([1969, 1970, 1971, 1972, 1973, 1974, 1975, 1976, 1977, 1978, 1979,\n",
       "       1980, 1981, 1982, 1983, 1984, 1985, 1986, 1987, 1988, 1989, 1990,\n",
       "       1991, 1992, 1993, 1994, 1995, 1996, 1997, 1998, 1999, 2000, 2001,\n",
       "       2002, 2003, 2004, 2005, 2006, 2007, 2008, 2009, 2010, 2011, 2012,\n",
       "       2013, 2014, 2015, 2016, 2017, 2018, 2019, 2020, 2021, 2022],\n",
       "      dtype=int64)"
      ]
     },
     "execution_count": 33,
     "metadata": {},
     "output_type": "execute_result"
    }
   ],
   "source": [
    "df_meat_tot[\"TIME_PERIOD\"].unique()"
   ]
  },
  {
   "cell_type": "code",
   "execution_count": 34,
   "id": "2b908973",
   "metadata": {},
   "outputs": [],
   "source": [
    "mapping = {'DEW':'Germany',\n",
    "           'ES':'Spain',\n",
    "           'IT':'Italy',\n",
    "           'LU':'Luxembourg',\n",
    "           'FR':'France',\n",
    "           'DK':'Denmark',\n",
    "           'EL': 'Greece', \n",
    "           'NL': 'Netherlands', \n",
    "           'BE':'Belgium', \n",
    "           'UK':'United Kingdom', \n",
    "           'IE':'Ireland',\n",
    "           'AT':'Austria', \n",
    "           'PT':'Portugal', \n",
    "           'SE':'Sweden', \n",
    "           'HU':'Hungary', \n",
    "           'CY':'Cyprus', \n",
    "           'RO':'Romania', \n",
    "           'PL':'Poland', \n",
    "           'SI':'Slovenia', \n",
    "           'CZ':'Czechia', \n",
    "           'SK':'Slovakia', \n",
    "           'DE':'Germany',\n",
    "           'LV':'Latvia', \n",
    "           'LT':'Lithuania', \n",
    "           'MK':'North Macedonia', \n",
    "           'FI':'Finland', \n",
    "           'BG':'Bulgaria', \n",
    "           'MT':'Malta', \n",
    "           'EE':'Estonia', \n",
    "           'HR':'Croatia', \n",
    "           'XK': 'Kosovo'\n",
    "          }\n",
    "\n",
    "df_meat_tot[\"geo\"] = df_meat_tot[\"geo\"].replace(mapping)"
   ]
  },
  {
   "cell_type": "code",
   "execution_count": 35,
   "id": "5a2ae35f",
   "metadata": {},
   "outputs": [],
   "source": [
    "drop_columns = [\"DATAFLOW\", \"LAST UPDATE\", \"freq\", \"OBS_FLAG\"]\n",
    "\n",
    "df_meat_tot.drop(drop_columns, axis = 1, inplace = True)"
   ]
  },
  {
   "cell_type": "code",
   "execution_count": 38,
   "id": "5d976711",
   "metadata": {},
   "outputs": [],
   "source": [
    "df_meat_tot = df_meat_tot[df_meat_tot[\"currency\"] == \"EUR\"]"
   ]
  },
  {
   "cell_type": "code",
   "execution_count": 44,
   "id": "d8dcb0fb",
   "metadata": {},
   "outputs": [
    {
     "data": {
      "text/html": [
       "<div>\n",
       "<style scoped>\n",
       "    .dataframe tbody tr th:only-of-type {\n",
       "        vertical-align: middle;\n",
       "    }\n",
       "\n",
       "    .dataframe tbody tr th {\n",
       "        vertical-align: top;\n",
       "    }\n",
       "\n",
       "    .dataframe thead tr th {\n",
       "        text-align: left;\n",
       "    }\n",
       "\n",
       "    .dataframe thead tr:last-of-type th {\n",
       "        text-align: right;\n",
       "    }\n",
       "</style>\n",
       "<table border=\"1\" class=\"dataframe\">\n",
       "  <thead>\n",
       "    <tr>\n",
       "      <th></th>\n",
       "      <th></th>\n",
       "      <th colspan=\"2\" halign=\"left\">OBS_VALUE</th>\n",
       "    </tr>\n",
       "    <tr>\n",
       "      <th></th>\n",
       "      <th></th>\n",
       "      <th>mean</th>\n",
       "      <th>std</th>\n",
       "    </tr>\n",
       "    <tr>\n",
       "      <th>geo</th>\n",
       "      <th>TIME_PERIOD</th>\n",
       "      <th></th>\n",
       "      <th></th>\n",
       "    </tr>\n",
       "  </thead>\n",
       "  <tbody>\n",
       "    <tr>\n",
       "      <th rowspan=\"5\" valign=\"top\">Austria</th>\n",
       "      <th>1974</th>\n",
       "      <td>126.425625</td>\n",
       "      <td>150.356032</td>\n",
       "    </tr>\n",
       "    <tr>\n",
       "      <th>1975</th>\n",
       "      <td>132.403125</td>\n",
       "      <td>167.113415</td>\n",
       "    </tr>\n",
       "    <tr>\n",
       "      <th>1976</th>\n",
       "      <td>151.872353</td>\n",
       "      <td>179.410116</td>\n",
       "    </tr>\n",
       "    <tr>\n",
       "      <th>1977</th>\n",
       "      <td>169.865294</td>\n",
       "      <td>207.259745</td>\n",
       "    </tr>\n",
       "    <tr>\n",
       "      <th>1978</th>\n",
       "      <td>180.094706</td>\n",
       "      <td>211.257137</td>\n",
       "    </tr>\n",
       "    <tr>\n",
       "      <th>...</th>\n",
       "      <th>...</th>\n",
       "      <td>...</td>\n",
       "      <td>...</td>\n",
       "    </tr>\n",
       "    <tr>\n",
       "      <th rowspan=\"5\" valign=\"top\">United Kingdom</th>\n",
       "      <th>2015</th>\n",
       "      <td>357.516923</td>\n",
       "      <td>479.207385</td>\n",
       "    </tr>\n",
       "    <tr>\n",
       "      <th>2016</th>\n",
       "      <td>303.060000</td>\n",
       "      <td>427.529939</td>\n",
       "    </tr>\n",
       "    <tr>\n",
       "      <th>2017</th>\n",
       "      <td>294.920000</td>\n",
       "      <td>419.399869</td>\n",
       "    </tr>\n",
       "    <tr>\n",
       "      <th>2018</th>\n",
       "      <td>294.517273</td>\n",
       "      <td>426.080682</td>\n",
       "    </tr>\n",
       "    <tr>\n",
       "      <th>2019</th>\n",
       "      <td>293.355455</td>\n",
       "      <td>438.849570</td>\n",
       "    </tr>\n",
       "  </tbody>\n",
       "</table>\n",
       "<p>1075 rows × 2 columns</p>\n",
       "</div>"
      ],
      "text/plain": [
       "                             OBS_VALUE            \n",
       "                                  mean         std\n",
       "geo            TIME_PERIOD                        \n",
       "Austria        1974         126.425625  150.356032\n",
       "               1975         132.403125  167.113415\n",
       "               1976         151.872353  179.410116\n",
       "               1977         169.865294  207.259745\n",
       "               1978         180.094706  211.257137\n",
       "...                                ...         ...\n",
       "United Kingdom 2015         357.516923  479.207385\n",
       "               2016         303.060000  427.529939\n",
       "               2017         294.920000  419.399869\n",
       "               2018         294.517273  426.080682\n",
       "               2019         293.355455  438.849570\n",
       "\n",
       "[1075 rows x 2 columns]"
      ]
     },
     "execution_count": 44,
     "metadata": {},
     "output_type": "execute_result"
    }
   ],
   "source": [
    "df_grouped = df_meat_tot.groupby([\"geo\", \"TIME_PERIOD\"]).agg({\"OBS_VALUE\" : [\"mean\", \"std\"]})\n",
    "df_grouped"
   ]
  },
  {
   "cell_type": "code",
   "execution_count": 45,
   "id": "861399a0",
   "metadata": {},
   "outputs": [
    {
     "data": {
      "text/html": [
       "<div>\n",
       "<style scoped>\n",
       "    .dataframe tbody tr th:only-of-type {\n",
       "        vertical-align: middle;\n",
       "    }\n",
       "\n",
       "    .dataframe tbody tr th {\n",
       "        vertical-align: top;\n",
       "    }\n",
       "\n",
       "    .dataframe thead th {\n",
       "        text-align: right;\n",
       "    }\n",
       "</style>\n",
       "<table border=\"1\" class=\"dataframe\">\n",
       "  <thead>\n",
       "    <tr style=\"text-align: right;\">\n",
       "      <th></th>\n",
       "      <th>currency</th>\n",
       "      <th>prod_ani</th>\n",
       "      <th>geo</th>\n",
       "      <th>TIME_PERIOD</th>\n",
       "      <th>OBS_VALUE</th>\n",
       "      <th>prod_apr</th>\n",
       "    </tr>\n",
       "  </thead>\n",
       "  <tbody>\n",
       "    <tr>\n",
       "      <th>24130</th>\n",
       "      <td>EUR</td>\n",
       "      <td>NaN</td>\n",
       "      <td>Germany</td>\n",
       "      <td>1969</td>\n",
       "      <td>43.95</td>\n",
       "      <td>4440.0</td>\n",
       "    </tr>\n",
       "    <tr>\n",
       "      <th>28446</th>\n",
       "      <td>EUR</td>\n",
       "      <td>NaN</td>\n",
       "      <td>Germany</td>\n",
       "      <td>1969</td>\n",
       "      <td>2.07</td>\n",
       "      <td>5315.0</td>\n",
       "    </tr>\n",
       "    <tr>\n",
       "      <th>20250</th>\n",
       "      <td>EUR</td>\n",
       "      <td>NaN</td>\n",
       "      <td>Germany</td>\n",
       "      <td>1969</td>\n",
       "      <td>34.52</td>\n",
       "      <td>4162.0</td>\n",
       "    </tr>\n",
       "    <tr>\n",
       "      <th>31759</th>\n",
       "      <td>EUR</td>\n",
       "      <td>NaN</td>\n",
       "      <td>Germany</td>\n",
       "      <td>1969</td>\n",
       "      <td>86.23</td>\n",
       "      <td>5610.0</td>\n",
       "    </tr>\n",
       "    <tr>\n",
       "      <th>30902</th>\n",
       "      <td>EUR</td>\n",
       "      <td>NaN</td>\n",
       "      <td>Germany</td>\n",
       "      <td>1969</td>\n",
       "      <td>54.99</td>\n",
       "      <td>5533.0</td>\n",
       "    </tr>\n",
       "    <tr>\n",
       "      <th>...</th>\n",
       "      <td>...</td>\n",
       "      <td>...</td>\n",
       "      <td>...</td>\n",
       "      <td>...</td>\n",
       "      <td>...</td>\n",
       "      <td>...</td>\n",
       "    </tr>\n",
       "    <tr>\n",
       "      <th>21144</th>\n",
       "      <td>EUR</td>\n",
       "      <td>NaN</td>\n",
       "      <td>Italy</td>\n",
       "      <td>1971</td>\n",
       "      <td>56.26</td>\n",
       "      <td>4172.0</td>\n",
       "    </tr>\n",
       "    <tr>\n",
       "      <th>31054</th>\n",
       "      <td>EUR</td>\n",
       "      <td>NaN</td>\n",
       "      <td>Netherlands</td>\n",
       "      <td>1971</td>\n",
       "      <td>121.94</td>\n",
       "      <td>5538.0</td>\n",
       "    </tr>\n",
       "    <tr>\n",
       "      <th>20992</th>\n",
       "      <td>EUR</td>\n",
       "      <td>NaN</td>\n",
       "      <td>Denmark</td>\n",
       "      <td>1971</td>\n",
       "      <td>42.44</td>\n",
       "      <td>4172.0</td>\n",
       "    </tr>\n",
       "    <tr>\n",
       "      <th>25523</th>\n",
       "      <td>EUR</td>\n",
       "      <td>NaN</td>\n",
       "      <td>Netherlands</td>\n",
       "      <td>1971</td>\n",
       "      <td>52.93</td>\n",
       "      <td>4733.0</td>\n",
       "    </tr>\n",
       "    <tr>\n",
       "      <th>27296</th>\n",
       "      <td>EUR</td>\n",
       "      <td>NaN</td>\n",
       "      <td>France</td>\n",
       "      <td>1971</td>\n",
       "      <td>10.40</td>\n",
       "      <td>5180.0</td>\n",
       "    </tr>\n",
       "  </tbody>\n",
       "</table>\n",
       "<p>100 rows × 6 columns</p>\n",
       "</div>"
      ],
      "text/plain": [
       "      currency  prod_ani          geo  TIME_PERIOD  OBS_VALUE  prod_apr\n",
       "24130      EUR       NaN      Germany         1969      43.95    4440.0\n",
       "28446      EUR       NaN      Germany         1969       2.07    5315.0\n",
       "20250      EUR       NaN      Germany         1969      34.52    4162.0\n",
       "31759      EUR       NaN      Germany         1969      86.23    5610.0\n",
       "30902      EUR       NaN      Germany         1969      54.99    5533.0\n",
       "...        ...       ...          ...          ...        ...       ...\n",
       "21144      EUR       NaN        Italy         1971      56.26    4172.0\n",
       "31054      EUR       NaN  Netherlands         1971     121.94    5538.0\n",
       "20992      EUR       NaN      Denmark         1971      42.44    4172.0\n",
       "25523      EUR       NaN  Netherlands         1971      52.93    4733.0\n",
       "27296      EUR       NaN       France         1971      10.40    5180.0\n",
       "\n",
       "[100 rows x 6 columns]"
      ]
     },
     "execution_count": 45,
     "metadata": {},
     "output_type": "execute_result"
    }
   ],
   "source": [
    "df_meat_tot.head(100)"
   ]
  },
  {
   "cell_type": "code",
   "execution_count": 46,
   "id": "4fbdf378",
   "metadata": {},
   "outputs": [],
   "source": [
    "df_meat_tot.to_csv(\"df_meat_price.csv\", index = False)"
   ]
  },
  {
   "cell_type": "code",
   "execution_count": null,
   "id": "aaa3c502",
   "metadata": {},
   "outputs": [],
   "source": []
  }
 ],
 "metadata": {
  "kernelspec": {
   "display_name": "Python 3 (ipykernel)",
   "language": "python",
   "name": "python3"
  },
  "language_info": {
   "codemirror_mode": {
    "name": "ipython",
    "version": 3
   },
   "file_extension": ".py",
   "mimetype": "text/x-python",
   "name": "python",
   "nbconvert_exporter": "python",
   "pygments_lexer": "ipython3",
   "version": "3.11.5"
  }
 },
 "nbformat": 4,
 "nbformat_minor": 5
}
